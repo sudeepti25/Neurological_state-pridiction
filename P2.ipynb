{
 "cells": [
  {
   "cell_type": "code",
   "execution_count": 1,
   "id": "2aec28c0",
   "metadata": {},
   "outputs": [
    {
     "data": {
      "text/html": [
       "<div>\n",
       "<style scoped>\n",
       "    .dataframe tbody tr th:only-of-type {\n",
       "        vertical-align: middle;\n",
       "    }\n",
       "\n",
       "    .dataframe tbody tr th {\n",
       "        vertical-align: top;\n",
       "    }\n",
       "\n",
       "    .dataframe thead th {\n",
       "        text-align: right;\n",
       "    }\n",
       "</style>\n",
       "<table border=\"1\" class=\"dataframe\">\n",
       "  <thead>\n",
       "    <tr style=\"text-align: right;\">\n",
       "      <th></th>\n",
       "      <th>SpO2</th>\n",
       "      <th>HR</th>\n",
       "      <th>AccX</th>\n",
       "      <th>AccY</th>\n",
       "      <th>AccZ</th>\n",
       "      <th>Temp</th>\n",
       "      <th>EDA</th>\n",
       "      <th>Annotation</th>\n",
       "      <th>Subject</th>\n",
       "      <th>Age</th>\n",
       "      <th>Gender</th>\n",
       "      <th>Height_cm</th>\n",
       "      <th>Weight_kg</th>\n",
       "      <th>Annotation_Numeric</th>\n",
       "    </tr>\n",
       "  </thead>\n",
       "  <tbody>\n",
       "    <tr>\n",
       "      <th>0</th>\n",
       "      <td>96.999969</td>\n",
       "      <td>89.000763</td>\n",
       "      <td>0.760015</td>\n",
       "      <td>-0.869990</td>\n",
       "      <td>-0.100004</td>\n",
       "      <td>30.100043</td>\n",
       "      <td>0.083039</td>\n",
       "      <td>Relax</td>\n",
       "      <td>Subject1</td>\n",
       "      <td>30</td>\n",
       "      <td>M</td>\n",
       "      <td>177</td>\n",
       "      <td>94</td>\n",
       "      <td>1</td>\n",
       "    </tr>\n",
       "    <tr>\n",
       "      <th>1</th>\n",
       "      <td>96.999969</td>\n",
       "      <td>88.000137</td>\n",
       "      <td>0.750005</td>\n",
       "      <td>-0.869990</td>\n",
       "      <td>-0.110031</td>\n",
       "      <td>30.100043</td>\n",
       "      <td>0.081028</td>\n",
       "      <td>Relax</td>\n",
       "      <td>Subject1</td>\n",
       "      <td>30</td>\n",
       "      <td>M</td>\n",
       "      <td>177</td>\n",
       "      <td>94</td>\n",
       "      <td>1</td>\n",
       "    </tr>\n",
       "    <tr>\n",
       "      <th>2</th>\n",
       "      <td>96.999969</td>\n",
       "      <td>87.000443</td>\n",
       "      <td>0.750005</td>\n",
       "      <td>-0.869990</td>\n",
       "      <td>-0.110031</td>\n",
       "      <td>30.100043</td>\n",
       "      <td>0.083039</td>\n",
       "      <td>Relax</td>\n",
       "      <td>Subject1</td>\n",
       "      <td>30</td>\n",
       "      <td>M</td>\n",
       "      <td>177</td>\n",
       "      <td>94</td>\n",
       "      <td>1</td>\n",
       "    </tr>\n",
       "    <tr>\n",
       "      <th>3</th>\n",
       "      <td>96.999969</td>\n",
       "      <td>87.000443</td>\n",
       "      <td>0.750005</td>\n",
       "      <td>-0.879993</td>\n",
       "      <td>-0.100004</td>\n",
       "      <td>30.100043</td>\n",
       "      <td>0.083039</td>\n",
       "      <td>Relax</td>\n",
       "      <td>Subject1</td>\n",
       "      <td>30</td>\n",
       "      <td>M</td>\n",
       "      <td>177</td>\n",
       "      <td>94</td>\n",
       "      <td>1</td>\n",
       "    </tr>\n",
       "    <tr>\n",
       "      <th>4</th>\n",
       "      <td>96.999969</td>\n",
       "      <td>87.000443</td>\n",
       "      <td>0.760015</td>\n",
       "      <td>-0.859987</td>\n",
       "      <td>-0.100004</td>\n",
       "      <td>30.100043</td>\n",
       "      <td>0.081028</td>\n",
       "      <td>Relax</td>\n",
       "      <td>Subject1</td>\n",
       "      <td>30</td>\n",
       "      <td>M</td>\n",
       "      <td>177</td>\n",
       "      <td>94</td>\n",
       "      <td>1</td>\n",
       "    </tr>\n",
       "  </tbody>\n",
       "</table>\n",
       "</div>"
      ],
      "text/plain": [
       "        SpO2         HR      AccX      AccY      AccZ       Temp       EDA  \\\n",
       "0  96.999969  89.000763  0.760015 -0.869990 -0.100004  30.100043  0.083039   \n",
       "1  96.999969  88.000137  0.750005 -0.869990 -0.110031  30.100043  0.081028   \n",
       "2  96.999969  87.000443  0.750005 -0.869990 -0.110031  30.100043  0.083039   \n",
       "3  96.999969  87.000443  0.750005 -0.879993 -0.100004  30.100043  0.083039   \n",
       "4  96.999969  87.000443  0.760015 -0.859987 -0.100004  30.100043  0.081028   \n",
       "\n",
       "  Annotation   Subject  Age Gender  Height_cm  Weight_kg  Annotation_Numeric  \n",
       "0      Relax  Subject1   30      M        177         94                   1  \n",
       "1      Relax  Subject1   30      M        177         94                   1  \n",
       "2      Relax  Subject1   30      M        177         94                   1  \n",
       "3      Relax  Subject1   30      M        177         94                   1  \n",
       "4      Relax  Subject1   30      M        177         94                   1  "
      ]
     },
     "execution_count": 1,
     "metadata": {},
     "output_type": "execute_result"
    }
   ],
   "source": [
    "import pandas as pd\n",
    "import numpy as np\n",
    "from sklearn.preprocessing import StandardScaler\n",
    "from scipy.stats import mode\n",
    "\n",
    "# Load supervised data\n",
    "df = pd.read_csv(\"./DATA/Supervised_dataset.csv\")\n",
    "df.head()\n",
    "# Separate features and labels\n"
   ]
  },
  {
   "cell_type": "code",
   "execution_count": 2,
   "id": "56b808a7",
   "metadata": {},
   "outputs": [
    {
     "data": {
      "text/html": [
       "<div>\n",
       "<style scoped>\n",
       "    .dataframe tbody tr th:only-of-type {\n",
       "        vertical-align: middle;\n",
       "    }\n",
       "\n",
       "    .dataframe tbody tr th {\n",
       "        vertical-align: top;\n",
       "    }\n",
       "\n",
       "    .dataframe thead th {\n",
       "        text-align: right;\n",
       "    }\n",
       "</style>\n",
       "<table border=\"1\" class=\"dataframe\">\n",
       "  <thead>\n",
       "    <tr style=\"text-align: right;\">\n",
       "      <th></th>\n",
       "      <th>EDA_mean</th>\n",
       "      <th>HR_mean</th>\n",
       "      <th>Temp_mean</th>\n",
       "      <th>SpO2_mean</th>\n",
       "      <th>Acc_magnitude_mean</th>\n",
       "    </tr>\n",
       "  </thead>\n",
       "  <tbody>\n",
       "    <tr>\n",
       "      <th>0</th>\n",
       "      <td>-0.782714</td>\n",
       "      <td>0.395262</td>\n",
       "      <td>-1.045836</td>\n",
       "      <td>0.370070</td>\n",
       "      <td>0.365992</td>\n",
       "    </tr>\n",
       "    <tr>\n",
       "      <th>1</th>\n",
       "      <td>-0.782401</td>\n",
       "      <td>-0.073149</td>\n",
       "      <td>-0.782789</td>\n",
       "      <td>0.292252</td>\n",
       "      <td>0.349516</td>\n",
       "    </tr>\n",
       "    <tr>\n",
       "      <th>2</th>\n",
       "      <td>-0.781311</td>\n",
       "      <td>-0.497982</td>\n",
       "      <td>-0.594906</td>\n",
       "      <td>0.389524</td>\n",
       "      <td>-0.384603</td>\n",
       "    </tr>\n",
       "    <tr>\n",
       "      <th>3</th>\n",
       "      <td>-0.780996</td>\n",
       "      <td>-0.386874</td>\n",
       "      <td>-0.432073</td>\n",
       "      <td>-0.213562</td>\n",
       "      <td>-0.536413</td>\n",
       "    </tr>\n",
       "    <tr>\n",
       "      <th>4</th>\n",
       "      <td>-0.780714</td>\n",
       "      <td>-0.404306</td>\n",
       "      <td>-0.319343</td>\n",
       "      <td>-0.019018</td>\n",
       "      <td>-0.533821</td>\n",
       "    </tr>\n",
       "  </tbody>\n",
       "</table>\n",
       "</div>"
      ],
      "text/plain": [
       "   EDA_mean   HR_mean  Temp_mean  SpO2_mean  Acc_magnitude_mean\n",
       "0 -0.782714  0.395262  -1.045836   0.370070            0.365992\n",
       "1 -0.782401 -0.073149  -0.782789   0.292252            0.349516\n",
       "2 -0.781311 -0.497982  -0.594906   0.389524           -0.384603\n",
       "3 -0.780996 -0.386874  -0.432073  -0.213562           -0.536413\n",
       "4 -0.780714 -0.404306  -0.319343  -0.019018           -0.533821"
      ]
     },
     "execution_count": 2,
     "metadata": {},
     "output_type": "execute_result"
    }
   ],
   "source": [
    "df2=pd.read_csv('./DATA/windowed_features.csv')\n",
    "df2.head()"
   ]
  },
  {
   "cell_type": "code",
   "execution_count": 3,
   "id": "96d215d2",
   "metadata": {},
   "outputs": [],
   "source": [
    "df['Acc_magnitude']=np.sqrt(df['AccX']**2 + df['AccY']**2 + df['AccZ']**2)  "
   ]
  },
  {
   "cell_type": "code",
   "execution_count": 4,
   "id": "3213b824",
   "metadata": {},
   "outputs": [],
   "source": [
    "df.drop(columns=['AccX', 'AccY', 'AccZ','Gender','Height_cm','Weight_kg','Subject'], inplace=True)"
   ]
  },
  {
   "cell_type": "code",
   "execution_count": 5,
   "id": "4216aaa6",
   "metadata": {},
   "outputs": [],
   "source": [
    "df.rename(columns={'Annotation_Numeric': 'label'}, inplace=True)"
   ]
  },
  {
   "cell_type": "code",
   "execution_count": 6,
   "id": "2c9de915",
   "metadata": {},
   "outputs": [
    {
     "data": {
      "text/html": [
       "<div>\n",
       "<style scoped>\n",
       "    .dataframe tbody tr th:only-of-type {\n",
       "        vertical-align: middle;\n",
       "    }\n",
       "\n",
       "    .dataframe tbody tr th {\n",
       "        vertical-align: top;\n",
       "    }\n",
       "\n",
       "    .dataframe thead th {\n",
       "        text-align: right;\n",
       "    }\n",
       "</style>\n",
       "<table border=\"1\" class=\"dataframe\">\n",
       "  <thead>\n",
       "    <tr style=\"text-align: right;\">\n",
       "      <th></th>\n",
       "      <th>SpO2</th>\n",
       "      <th>HR</th>\n",
       "      <th>Temp</th>\n",
       "      <th>EDA</th>\n",
       "      <th>Annotation</th>\n",
       "      <th>Age</th>\n",
       "      <th>label</th>\n",
       "      <th>Acc_magnitude</th>\n",
       "    </tr>\n",
       "  </thead>\n",
       "  <tbody>\n",
       "    <tr>\n",
       "      <th>0</th>\n",
       "      <td>96.999969</td>\n",
       "      <td>89.000763</td>\n",
       "      <td>30.100043</td>\n",
       "      <td>0.083039</td>\n",
       "      <td>Relax</td>\n",
       "      <td>30</td>\n",
       "      <td>1</td>\n",
       "      <td>1.159528</td>\n",
       "    </tr>\n",
       "    <tr>\n",
       "      <th>1</th>\n",
       "      <td>96.999969</td>\n",
       "      <td>88.000137</td>\n",
       "      <td>30.100043</td>\n",
       "      <td>0.081028</td>\n",
       "      <td>Relax</td>\n",
       "      <td>30</td>\n",
       "      <td>1</td>\n",
       "      <td>1.153905</td>\n",
       "    </tr>\n",
       "    <tr>\n",
       "      <th>2</th>\n",
       "      <td>96.999969</td>\n",
       "      <td>87.000443</td>\n",
       "      <td>30.100043</td>\n",
       "      <td>0.083039</td>\n",
       "      <td>Relax</td>\n",
       "      <td>30</td>\n",
       "      <td>1</td>\n",
       "      <td>1.153905</td>\n",
       "    </tr>\n",
       "    <tr>\n",
       "      <th>3</th>\n",
       "      <td>96.999969</td>\n",
       "      <td>87.000443</td>\n",
       "      <td>30.100043</td>\n",
       "      <td>0.083039</td>\n",
       "      <td>Relax</td>\n",
       "      <td>30</td>\n",
       "      <td>1</td>\n",
       "      <td>1.160558</td>\n",
       "    </tr>\n",
       "    <tr>\n",
       "      <th>4</th>\n",
       "      <td>96.999969</td>\n",
       "      <td>87.000443</td>\n",
       "      <td>30.100043</td>\n",
       "      <td>0.081028</td>\n",
       "      <td>Relax</td>\n",
       "      <td>30</td>\n",
       "      <td>1</td>\n",
       "      <td>1.152042</td>\n",
       "    </tr>\n",
       "  </tbody>\n",
       "</table>\n",
       "</div>"
      ],
      "text/plain": [
       "        SpO2         HR       Temp       EDA Annotation  Age  label  \\\n",
       "0  96.999969  89.000763  30.100043  0.083039      Relax   30      1   \n",
       "1  96.999969  88.000137  30.100043  0.081028      Relax   30      1   \n",
       "2  96.999969  87.000443  30.100043  0.083039      Relax   30      1   \n",
       "3  96.999969  87.000443  30.100043  0.083039      Relax   30      1   \n",
       "4  96.999969  87.000443  30.100043  0.081028      Relax   30      1   \n",
       "\n",
       "   Acc_magnitude  \n",
       "0       1.159528  \n",
       "1       1.153905  \n",
       "2       1.153905  \n",
       "3       1.160558  \n",
       "4       1.152042  "
      ]
     },
     "execution_count": 6,
     "metadata": {},
     "output_type": "execute_result"
    }
   ],
   "source": [
    "df.head()"
   ]
  },
  {
   "cell_type": "code",
   "execution_count": 7,
   "id": "e0c90c80",
   "metadata": {},
   "outputs": [],
   "source": [
    "df.drop(columns=['Annotation'], inplace=True)"
   ]
  },
  {
   "cell_type": "code",
   "execution_count": 8,
   "id": "18c810de",
   "metadata": {},
   "outputs": [],
   "source": [
    "features = df.drop('label', axis=1)\n",
    "labels = df['label'].values\n",
    "\n",
    "scaler = StandardScaler()\n",
    "features_scaled = scaler.fit_transform(features)\n",
    "df_scaled = pd.DataFrame(features_scaled, columns=features.columns)\n",
    "\n",
    "# Add label back for windowing\n",
    "df_scaled['label'] = labels\n",
    "\n",
    "# Set window size\n",
    "window_size = 30\n",
    "num_windows = len(df_scaled) // window_size\n",
    "\n",
    "windowed_features = []\n",
    "windowed_labels = []\n",
    "\n",
    "for i in range(num_windows):\n",
    "    window = df_scaled.iloc[i*window_size : (i+1)*window_size]\n",
    "    \n",
    "    # Only mean features\n",
    "    means = window.drop('label', axis=1).mean().values\n",
    "    \n",
    "    # Label: majority vote in the window\n",
    "    label = mode(window['label'], keepdims=False).mode.item()\n",
    "    \n",
    "    windowed_features.append(means)\n",
    "    windowed_labels.append(label)\n",
    "\n",
    "# Create DataFrame\n",
    "columns = [f\"{col}_mean\" for col in features.columns]\n",
    "windowed_df = pd.DataFrame(windowed_features, columns=columns)\n",
    "windowed_df['label'] = windowed_labels\n",
    "\n",
    "# Save result\n",
    "windowed_df.to_csv(\"Supervised_windowed.csv\", index=False)\n"
   ]
  },
  {
   "cell_type": "code",
   "execution_count": 9,
   "id": "f435ac91",
   "metadata": {},
   "outputs": [],
   "source": [
    "df3=pd.read_csv('./DATA/Supervised_windowed.csv')"
   ]
  },
  {
   "cell_type": "code",
   "execution_count": 10,
   "id": "057f357a",
   "metadata": {},
   "outputs": [
    {
     "data": {
      "text/plain": [
       "(1536, 7)"
      ]
     },
     "execution_count": 10,
     "metadata": {},
     "output_type": "execute_result"
    }
   ],
   "source": [
    "df3.shape"
   ]
  },
  {
   "cell_type": "code",
   "execution_count": 11,
   "id": "5362a2d3",
   "metadata": {},
   "outputs": [
    {
     "data": {
      "text/plain": [
       "(1536, 5)"
      ]
     },
     "execution_count": 11,
     "metadata": {},
     "output_type": "execute_result"
    }
   ],
   "source": [
    "df2.shape"
   ]
  },
  {
   "cell_type": "code",
   "execution_count": 12,
   "id": "0926fd9d",
   "metadata": {},
   "outputs": [
    {
     "data": {
      "text/html": [
       "<div>\n",
       "<style scoped>\n",
       "    .dataframe tbody tr th:only-of-type {\n",
       "        vertical-align: middle;\n",
       "    }\n",
       "\n",
       "    .dataframe tbody tr th {\n",
       "        vertical-align: top;\n",
       "    }\n",
       "\n",
       "    .dataframe thead th {\n",
       "        text-align: right;\n",
       "    }\n",
       "</style>\n",
       "<table border=\"1\" class=\"dataframe\">\n",
       "  <thead>\n",
       "    <tr style=\"text-align: right;\">\n",
       "      <th></th>\n",
       "      <th>SpO2_mean</th>\n",
       "      <th>HR_mean</th>\n",
       "      <th>Temp_mean</th>\n",
       "      <th>EDA_mean</th>\n",
       "      <th>Age_mean</th>\n",
       "      <th>Acc_magnitude_mean</th>\n",
       "      <th>label</th>\n",
       "    </tr>\n",
       "  </thead>\n",
       "  <tbody>\n",
       "    <tr>\n",
       "      <th>0</th>\n",
       "      <td>0.370070</td>\n",
       "      <td>0.395262</td>\n",
       "      <td>-1.045836</td>\n",
       "      <td>-0.782714</td>\n",
       "      <td>1.069476</td>\n",
       "      <td>0.365992</td>\n",
       "      <td>1</td>\n",
       "    </tr>\n",
       "    <tr>\n",
       "      <th>1</th>\n",
       "      <td>0.292252</td>\n",
       "      <td>-0.073149</td>\n",
       "      <td>-0.782789</td>\n",
       "      <td>-0.782401</td>\n",
       "      <td>1.069476</td>\n",
       "      <td>0.349516</td>\n",
       "      <td>1</td>\n",
       "    </tr>\n",
       "    <tr>\n",
       "      <th>2</th>\n",
       "      <td>0.389524</td>\n",
       "      <td>-0.497982</td>\n",
       "      <td>-0.594906</td>\n",
       "      <td>-0.781311</td>\n",
       "      <td>1.069476</td>\n",
       "      <td>-0.384603</td>\n",
       "      <td>1</td>\n",
       "    </tr>\n",
       "    <tr>\n",
       "      <th>3</th>\n",
       "      <td>-0.213562</td>\n",
       "      <td>-0.386874</td>\n",
       "      <td>-0.432073</td>\n",
       "      <td>-0.780996</td>\n",
       "      <td>1.069476</td>\n",
       "      <td>-0.536413</td>\n",
       "      <td>1</td>\n",
       "    </tr>\n",
       "    <tr>\n",
       "      <th>4</th>\n",
       "      <td>-0.019018</td>\n",
       "      <td>-0.404306</td>\n",
       "      <td>-0.319343</td>\n",
       "      <td>-0.780714</td>\n",
       "      <td>1.069476</td>\n",
       "      <td>-0.533821</td>\n",
       "      <td>1</td>\n",
       "    </tr>\n",
       "  </tbody>\n",
       "</table>\n",
       "</div>"
      ],
      "text/plain": [
       "   SpO2_mean   HR_mean  Temp_mean  EDA_mean  Age_mean  Acc_magnitude_mean  \\\n",
       "0   0.370070  0.395262  -1.045836 -0.782714  1.069476            0.365992   \n",
       "1   0.292252 -0.073149  -0.782789 -0.782401  1.069476            0.349516   \n",
       "2   0.389524 -0.497982  -0.594906 -0.781311  1.069476           -0.384603   \n",
       "3  -0.213562 -0.386874  -0.432073 -0.780996  1.069476           -0.536413   \n",
       "4  -0.019018 -0.404306  -0.319343 -0.780714  1.069476           -0.533821   \n",
       "\n",
       "   label  \n",
       "0      1  \n",
       "1      1  \n",
       "2      1  \n",
       "3      1  \n",
       "4      1  "
      ]
     },
     "execution_count": 12,
     "metadata": {},
     "output_type": "execute_result"
    }
   ],
   "source": [
    "df3.head()"
   ]
  },
  {
   "cell_type": "code",
   "execution_count": 13,
   "id": "7be24d2c",
   "metadata": {},
   "outputs": [],
   "source": [
    "df3.drop(columns=['Age_mean'], inplace=True)"
   ]
  },
  {
   "cell_type": "code",
   "execution_count": 14,
   "id": "3dc4c0eb",
   "metadata": {},
   "outputs": [
    {
     "data": {
      "text/html": [
       "<div>\n",
       "<style scoped>\n",
       "    .dataframe tbody tr th:only-of-type {\n",
       "        vertical-align: middle;\n",
       "    }\n",
       "\n",
       "    .dataframe tbody tr th {\n",
       "        vertical-align: top;\n",
       "    }\n",
       "\n",
       "    .dataframe thead th {\n",
       "        text-align: right;\n",
       "    }\n",
       "</style>\n",
       "<table border=\"1\" class=\"dataframe\">\n",
       "  <thead>\n",
       "    <tr style=\"text-align: right;\">\n",
       "      <th></th>\n",
       "      <th>SpO2_mean</th>\n",
       "      <th>HR_mean</th>\n",
       "      <th>Temp_mean</th>\n",
       "      <th>EDA_mean</th>\n",
       "      <th>Acc_magnitude_mean</th>\n",
       "      <th>label</th>\n",
       "    </tr>\n",
       "  </thead>\n",
       "  <tbody>\n",
       "    <tr>\n",
       "      <th>0</th>\n",
       "      <td>0.370070</td>\n",
       "      <td>0.395262</td>\n",
       "      <td>-1.045836</td>\n",
       "      <td>-0.782714</td>\n",
       "      <td>0.365992</td>\n",
       "      <td>1</td>\n",
       "    </tr>\n",
       "    <tr>\n",
       "      <th>1</th>\n",
       "      <td>0.292252</td>\n",
       "      <td>-0.073149</td>\n",
       "      <td>-0.782789</td>\n",
       "      <td>-0.782401</td>\n",
       "      <td>0.349516</td>\n",
       "      <td>1</td>\n",
       "    </tr>\n",
       "    <tr>\n",
       "      <th>2</th>\n",
       "      <td>0.389524</td>\n",
       "      <td>-0.497982</td>\n",
       "      <td>-0.594906</td>\n",
       "      <td>-0.781311</td>\n",
       "      <td>-0.384603</td>\n",
       "      <td>1</td>\n",
       "    </tr>\n",
       "    <tr>\n",
       "      <th>3</th>\n",
       "      <td>-0.213562</td>\n",
       "      <td>-0.386874</td>\n",
       "      <td>-0.432073</td>\n",
       "      <td>-0.780996</td>\n",
       "      <td>-0.536413</td>\n",
       "      <td>1</td>\n",
       "    </tr>\n",
       "    <tr>\n",
       "      <th>4</th>\n",
       "      <td>-0.019018</td>\n",
       "      <td>-0.404306</td>\n",
       "      <td>-0.319343</td>\n",
       "      <td>-0.780714</td>\n",
       "      <td>-0.533821</td>\n",
       "      <td>1</td>\n",
       "    </tr>\n",
       "  </tbody>\n",
       "</table>\n",
       "</div>"
      ],
      "text/plain": [
       "   SpO2_mean   HR_mean  Temp_mean  EDA_mean  Acc_magnitude_mean  label\n",
       "0   0.370070  0.395262  -1.045836 -0.782714            0.365992      1\n",
       "1   0.292252 -0.073149  -0.782789 -0.782401            0.349516      1\n",
       "2   0.389524 -0.497982  -0.594906 -0.781311           -0.384603      1\n",
       "3  -0.213562 -0.386874  -0.432073 -0.780996           -0.536413      1\n",
       "4  -0.019018 -0.404306  -0.319343 -0.780714           -0.533821      1"
      ]
     },
     "execution_count": 14,
     "metadata": {},
     "output_type": "execute_result"
    }
   ],
   "source": [
    "df3.head()"
   ]
  },
  {
   "cell_type": "code",
   "execution_count": 15,
   "id": "b3d7636a",
   "metadata": {},
   "outputs": [
    {
     "data": {
      "text/plain": [
       "label\n",
       "1    799\n",
       "0    278\n",
       "3    239\n",
       "2    220\n",
       "Name: count, dtype: int64"
      ]
     },
     "execution_count": 15,
     "metadata": {},
     "output_type": "execute_result"
    }
   ],
   "source": [
    "df3['label'].value_counts()"
   ]
  },
  {
   "cell_type": "code",
   "execution_count": 16,
   "id": "89a04b4e",
   "metadata": {},
   "outputs": [
    {
     "data": {
      "text/html": [
       "<div>\n",
       "<style scoped>\n",
       "    .dataframe tbody tr th:only-of-type {\n",
       "        vertical-align: middle;\n",
       "    }\n",
       "\n",
       "    .dataframe tbody tr th {\n",
       "        vertical-align: top;\n",
       "    }\n",
       "\n",
       "    .dataframe thead th {\n",
       "        text-align: right;\n",
       "    }\n",
       "</style>\n",
       "<table border=\"1\" class=\"dataframe\">\n",
       "  <thead>\n",
       "    <tr style=\"text-align: right;\">\n",
       "      <th></th>\n",
       "      <th>EDA_mean</th>\n",
       "      <th>HR_mean</th>\n",
       "      <th>Temp_mean</th>\n",
       "      <th>SpO2_mean</th>\n",
       "      <th>Acc_magnitude_mean</th>\n",
       "    </tr>\n",
       "  </thead>\n",
       "  <tbody>\n",
       "    <tr>\n",
       "      <th>0</th>\n",
       "      <td>-0.782714</td>\n",
       "      <td>0.395262</td>\n",
       "      <td>-1.045836</td>\n",
       "      <td>0.370070</td>\n",
       "      <td>0.365992</td>\n",
       "    </tr>\n",
       "    <tr>\n",
       "      <th>1</th>\n",
       "      <td>-0.782401</td>\n",
       "      <td>-0.073149</td>\n",
       "      <td>-0.782789</td>\n",
       "      <td>0.292252</td>\n",
       "      <td>0.349516</td>\n",
       "    </tr>\n",
       "    <tr>\n",
       "      <th>2</th>\n",
       "      <td>-0.781311</td>\n",
       "      <td>-0.497982</td>\n",
       "      <td>-0.594906</td>\n",
       "      <td>0.389524</td>\n",
       "      <td>-0.384603</td>\n",
       "    </tr>\n",
       "    <tr>\n",
       "      <th>3</th>\n",
       "      <td>-0.780996</td>\n",
       "      <td>-0.386874</td>\n",
       "      <td>-0.432073</td>\n",
       "      <td>-0.213562</td>\n",
       "      <td>-0.536413</td>\n",
       "    </tr>\n",
       "    <tr>\n",
       "      <th>4</th>\n",
       "      <td>-0.780714</td>\n",
       "      <td>-0.404306</td>\n",
       "      <td>-0.319343</td>\n",
       "      <td>-0.019018</td>\n",
       "      <td>-0.533821</td>\n",
       "    </tr>\n",
       "  </tbody>\n",
       "</table>\n",
       "</div>"
      ],
      "text/plain": [
       "   EDA_mean   HR_mean  Temp_mean  SpO2_mean  Acc_magnitude_mean\n",
       "0 -0.782714  0.395262  -1.045836   0.370070            0.365992\n",
       "1 -0.782401 -0.073149  -0.782789   0.292252            0.349516\n",
       "2 -0.781311 -0.497982  -0.594906   0.389524           -0.384603\n",
       "3 -0.780996 -0.386874  -0.432073  -0.213562           -0.536413\n",
       "4 -0.780714 -0.404306  -0.319343  -0.019018           -0.533821"
      ]
     },
     "execution_count": 16,
     "metadata": {},
     "output_type": "execute_result"
    }
   ],
   "source": [
    "df2.head()"
   ]
  },
  {
   "cell_type": "code",
   "execution_count": 17,
   "id": "2db989f7",
   "metadata": {},
   "outputs": [],
   "source": [
    "feature_cols = ['SpO2_mean', 'HR_mean', 'Temp_mean', 'EDA_mean', 'Acc_magnitude_mean']\n",
    "supervised_df = df3[feature_cols + ['label']]\n",
    "unsupervised_df = df2[feature_cols]"
   ]
  },
  {
   "cell_type": "code",
   "execution_count": 18,
   "id": "f44c2abb",
   "metadata": {},
   "outputs": [],
   "source": [
    "# Separate features and labels\n",
    "X_supervised = df3[feature_cols]\n",
    "y_supervised = df3['label']\n",
    "\n",
    "X_unsupervised = df2.copy()\n",
    "y_unsupervised = np.full(X_unsupervised.shape[0], -1)  # unlabeled\n",
    "\n",
    "# Combine\n",
    "X_all = pd.concat([X_supervised, X_unsupervised], ignore_index=True)\n",
    "y_all = np.concatenate([y_supervised, y_unsupervised])\n"
   ]
  },
  {
   "cell_type": "code",
   "execution_count": 19,
   "id": "fd2c9449",
   "metadata": {},
   "outputs": [
    {
     "data": {
      "text/plain": [
       "(3072, 5)"
      ]
     },
     "execution_count": 19,
     "metadata": {},
     "output_type": "execute_result"
    }
   ],
   "source": [
    "X_all.shape"
   ]
  },
  {
   "cell_type": "code",
   "execution_count": 20,
   "id": "16be8550",
   "metadata": {},
   "outputs": [
    {
     "data": {
      "text/html": [
       "<div>\n",
       "<style scoped>\n",
       "    .dataframe tbody tr th:only-of-type {\n",
       "        vertical-align: middle;\n",
       "    }\n",
       "\n",
       "    .dataframe tbody tr th {\n",
       "        vertical-align: top;\n",
       "    }\n",
       "\n",
       "    .dataframe thead th {\n",
       "        text-align: right;\n",
       "    }\n",
       "</style>\n",
       "<table border=\"1\" class=\"dataframe\">\n",
       "  <thead>\n",
       "    <tr style=\"text-align: right;\">\n",
       "      <th></th>\n",
       "      <th>SpO2_mean</th>\n",
       "      <th>HR_mean</th>\n",
       "      <th>Temp_mean</th>\n",
       "      <th>EDA_mean</th>\n",
       "      <th>Acc_magnitude_mean</th>\n",
       "    </tr>\n",
       "  </thead>\n",
       "  <tbody>\n",
       "    <tr>\n",
       "      <th>0</th>\n",
       "      <td>0.370070</td>\n",
       "      <td>0.395262</td>\n",
       "      <td>-1.045836</td>\n",
       "      <td>-0.782714</td>\n",
       "      <td>0.365992</td>\n",
       "    </tr>\n",
       "    <tr>\n",
       "      <th>1</th>\n",
       "      <td>0.292252</td>\n",
       "      <td>-0.073149</td>\n",
       "      <td>-0.782789</td>\n",
       "      <td>-0.782401</td>\n",
       "      <td>0.349516</td>\n",
       "    </tr>\n",
       "    <tr>\n",
       "      <th>2</th>\n",
       "      <td>0.389524</td>\n",
       "      <td>-0.497982</td>\n",
       "      <td>-0.594906</td>\n",
       "      <td>-0.781311</td>\n",
       "      <td>-0.384603</td>\n",
       "    </tr>\n",
       "    <tr>\n",
       "      <th>3</th>\n",
       "      <td>-0.213562</td>\n",
       "      <td>-0.386874</td>\n",
       "      <td>-0.432073</td>\n",
       "      <td>-0.780996</td>\n",
       "      <td>-0.536413</td>\n",
       "    </tr>\n",
       "    <tr>\n",
       "      <th>4</th>\n",
       "      <td>-0.019018</td>\n",
       "      <td>-0.404306</td>\n",
       "      <td>-0.319343</td>\n",
       "      <td>-0.780714</td>\n",
       "      <td>-0.533821</td>\n",
       "    </tr>\n",
       "  </tbody>\n",
       "</table>\n",
       "</div>"
      ],
      "text/plain": [
       "   SpO2_mean   HR_mean  Temp_mean  EDA_mean  Acc_magnitude_mean\n",
       "0   0.370070  0.395262  -1.045836 -0.782714            0.365992\n",
       "1   0.292252 -0.073149  -0.782789 -0.782401            0.349516\n",
       "2   0.389524 -0.497982  -0.594906 -0.781311           -0.384603\n",
       "3  -0.213562 -0.386874  -0.432073 -0.780996           -0.536413\n",
       "4  -0.019018 -0.404306  -0.319343 -0.780714           -0.533821"
      ]
     },
     "execution_count": 20,
     "metadata": {},
     "output_type": "execute_result"
    }
   ],
   "source": [
    "X_all.head()"
   ]
  },
  {
   "cell_type": "code",
   "execution_count": 21,
   "id": "cdeeb04a",
   "metadata": {},
   "outputs": [
    {
     "data": {
      "text/plain": [
       "(3072,)"
      ]
     },
     "execution_count": 21,
     "metadata": {},
     "output_type": "execute_result"
    }
   ],
   "source": [
    "y_all.shape\n"
   ]
  },
  {
   "cell_type": "code",
   "execution_count": 22,
   "id": "a193912d",
   "metadata": {},
   "outputs": [],
   "source": [
    "from sklearn.semi_supervised import LabelSpreading\n",
    "\n",
    "# Scale features\n",
    "scaler = StandardScaler()\n",
    "X_scaled = scaler.fit_transform(X_all)\n",
    "label_spread = LabelSpreading(kernel='rbf', alpha=0.2)\n",
    "label_spread.fit(X_all, y_all)\n",
    "predicted_labels = label_spread.transduction_\n",
    "\n"
   ]
  },
  {
   "cell_type": "code",
   "execution_count": 23,
   "id": "aac35ab0",
   "metadata": {},
   "outputs": [],
   "source": [
    "probs = label_spread.label_distributions_\n",
    "confidences = probs.max(axis=1)\n",
    "high_conf_mask = (y_all == -1) & (confidences > 0.9)\n"
   ]
  },
  {
   "cell_type": "code",
   "execution_count": 24,
   "id": "14a9b4ea",
   "metadata": {},
   "outputs": [],
   "source": [
    "pseudo_df = X_all.iloc[high_conf_mask].copy()\n",
    "pseudo_df['label'] = predicted_labels[high_conf_mask]\n",
    "\n",
    "final_data = pd.concat([supervised_df, pseudo_df], ignore_index=True)\n"
   ]
  },
  {
   "cell_type": "code",
   "execution_count": 25,
   "id": "ec568b7d",
   "metadata": {},
   "outputs": [],
   "source": [
    "df2['predicted_label'] =predicted_labels[len(df3):]  # where df3 is your supervised data\n",
    "\n",
    "df2.to_csv(\"unlabeled_with_predictions.csv\", index=False)\n"
   ]
  },
  {
   "cell_type": "code",
   "execution_count": 26,
   "id": "297fc80e",
   "metadata": {},
   "outputs": [
    {
     "data": {
      "text/html": [
       "<div>\n",
       "<style scoped>\n",
       "    .dataframe tbody tr th:only-of-type {\n",
       "        vertical-align: middle;\n",
       "    }\n",
       "\n",
       "    .dataframe tbody tr th {\n",
       "        vertical-align: top;\n",
       "    }\n",
       "\n",
       "    .dataframe thead th {\n",
       "        text-align: right;\n",
       "    }\n",
       "</style>\n",
       "<table border=\"1\" class=\"dataframe\">\n",
       "  <thead>\n",
       "    <tr style=\"text-align: right;\">\n",
       "      <th></th>\n",
       "      <th>EDA_mean</th>\n",
       "      <th>HR_mean</th>\n",
       "      <th>Temp_mean</th>\n",
       "      <th>SpO2_mean</th>\n",
       "      <th>Acc_magnitude_mean</th>\n",
       "      <th>predicted_label</th>\n",
       "    </tr>\n",
       "  </thead>\n",
       "  <tbody>\n",
       "    <tr>\n",
       "      <th>0</th>\n",
       "      <td>-0.782714</td>\n",
       "      <td>0.395262</td>\n",
       "      <td>-1.045836</td>\n",
       "      <td>0.370070</td>\n",
       "      <td>0.365992</td>\n",
       "      <td>1</td>\n",
       "    </tr>\n",
       "    <tr>\n",
       "      <th>1</th>\n",
       "      <td>-0.782401</td>\n",
       "      <td>-0.073149</td>\n",
       "      <td>-0.782789</td>\n",
       "      <td>0.292252</td>\n",
       "      <td>0.349516</td>\n",
       "      <td>1</td>\n",
       "    </tr>\n",
       "    <tr>\n",
       "      <th>2</th>\n",
       "      <td>-0.781311</td>\n",
       "      <td>-0.497982</td>\n",
       "      <td>-0.594906</td>\n",
       "      <td>0.389524</td>\n",
       "      <td>-0.384603</td>\n",
       "      <td>1</td>\n",
       "    </tr>\n",
       "    <tr>\n",
       "      <th>3</th>\n",
       "      <td>-0.780996</td>\n",
       "      <td>-0.386874</td>\n",
       "      <td>-0.432073</td>\n",
       "      <td>-0.213562</td>\n",
       "      <td>-0.536413</td>\n",
       "      <td>1</td>\n",
       "    </tr>\n",
       "    <tr>\n",
       "      <th>4</th>\n",
       "      <td>-0.780714</td>\n",
       "      <td>-0.404306</td>\n",
       "      <td>-0.319343</td>\n",
       "      <td>-0.019018</td>\n",
       "      <td>-0.533821</td>\n",
       "      <td>1</td>\n",
       "    </tr>\n",
       "  </tbody>\n",
       "</table>\n",
       "</div>"
      ],
      "text/plain": [
       "   EDA_mean   HR_mean  Temp_mean  SpO2_mean  Acc_magnitude_mean  \\\n",
       "0 -0.782714  0.395262  -1.045836   0.370070            0.365992   \n",
       "1 -0.782401 -0.073149  -0.782789   0.292252            0.349516   \n",
       "2 -0.781311 -0.497982  -0.594906   0.389524           -0.384603   \n",
       "3 -0.780996 -0.386874  -0.432073  -0.213562           -0.536413   \n",
       "4 -0.780714 -0.404306  -0.319343  -0.019018           -0.533821   \n",
       "\n",
       "   predicted_label  \n",
       "0                1  \n",
       "1                1  \n",
       "2                1  \n",
       "3                1  \n",
       "4                1  "
      ]
     },
     "execution_count": 26,
     "metadata": {},
     "output_type": "execute_result"
    }
   ],
   "source": [
    "df2.head()"
   ]
  },
  {
   "cell_type": "code",
   "execution_count": 27,
   "id": "760369d1",
   "metadata": {},
   "outputs": [
    {
     "data": {
      "image/png": "[encoded data removed]",
      "text/plain": [
       "<Figure size 640x480 with 1 Axes>"
      ]
     },
     "metadata": {},
     "output_type": "display_data"
    },
    {
     "data": {
      "image/png": "[encoded data removed]",
      "text/plain": [
       "<Figure size 640x480 with 1 Axes>"
      ]
     },
     "metadata": {},
     "output_type": "display_data"
    }
   ],
   "source": [
    "import seaborn as sns\n",
    "import matplotlib.pyplot as plt\n",
    "\n",
    "# Visualize predicted labels\n",
    "sns.countplot(x='predicted_label', data=df2)\n",
    "plt.title(\"Distribution of Predicted Labels (Unlabeled Data)\")\n",
    "plt.xlabel(\"Label\")\n",
    "plt.ylabel(\"Count\")\n",
    "plt.show()\n",
    "\n",
    "#Visualize actual labels\n",
    "\n",
    "sns.countplot(x='label', data=df3)\n",
    "plt.title(\"Distribution of Predicted Labels (labelled data)\")\n",
    "plt.xlabel(\"Label\")\n",
    "plt.ylabel(\"Count\")\n",
    "plt.show()\n",
    "\n",
    "\n"
   ]
  },
  {
   "cell_type": "code",
   "execution_count": 28,
   "id": "00f09b8e",
   "metadata": {},
   "outputs": [
    {
     "data": {
      "image/png": "[encoded data removed]",
      "text/plain": [
       "<Figure size 640x480 with 1 Axes>"
      ]
     },
     "metadata": {},
     "output_type": "display_data"
    }
   ],
   "source": [
    "from sklearn.decomposition import PCA\n",
    "\n",
    "# Optional: combine original + pseudo-labeled\n",
    "combined_df = pd.concat([\n",
    "    supervised_df,\n",
    "    unsupervised_df.rename(columns={'predicted_label': 'label'})\n",
    "], ignore_index=True)\n",
    "\n",
    "# PCA for visualization\n",
    "pca = PCA(n_components=2)\n",
    "X_pca = pca.fit_transform(combined_df[feature_cols])\n",
    "combined_df['PC1'] = X_pca[:, 0]\n",
    "combined_df['PC2'] = X_pca[:, 1]\n",
    "\n",
    "# Plot\n",
    "sns.scatterplot(data=combined_df, x='PC1', y='PC2', hue='label', palette='Set2')\n",
    "plt.title(\"PCA Projection of Labeled and Pseudo-Labeled Data\")\n",
    "plt.show()\n"
   ]
  },
  {
   "cell_type": "code",
   "execution_count": 29,
   "id": "9c059696",
   "metadata": {},
   "outputs": [
    {
     "data": {
      "image/png": "[encoded data removed]",
      "text/plain": [
       "<Figure size 640x480 with 1 Axes>"
      ]
     },
     "metadata": {},
     "output_type": "display_data"
    }
   ],
   "source": [
    "# Get label distributions\n",
    "label_distributions = label_spread.label_distributions_\n",
    "\n",
    "# Get max probability for each prediction (confidence)\n",
    "pseudo_confidences = label_distributions[len(y_supervised):].max(axis=1)\n",
    "\n",
    "# Visualize confidence\n",
    "sns.histplot(pseudo_confidences, bins=20, kde=True)\n",
    "plt.title(\"Confidence of Pseudo-Labels\")\n",
    "plt.xlabel(\"Max Probability\")\n",
    "plt.ylabel(\"Count\")\n",
    "plt.show()\n"
   ]
  },
  {
   "cell_type": "code",
   "execution_count": 30,
   "id": "348493ce",
   "metadata": {},
   "outputs": [
    {
     "data": {
      "text/plain": [
       "predicted_label\n",
       "1    794\n",
       "0    283\n",
       "3    240\n",
       "2    219\n",
       "Name: count, dtype: int64"
      ]
     },
     "execution_count": 30,
     "metadata": {},
     "output_type": "execute_result"
    }
   ],
   "source": [
    "df2['predicted_label'].value_counts()"
   ]
  },
  {
   "cell_type": "code",
   "execution_count": 31,
   "id": "1d008df0",
   "metadata": {},
   "outputs": [
    {
     "data": {
      "text/plain": [
       "label\n",
       "1    799\n",
       "0    278\n",
       "3    239\n",
       "2    220\n",
       "Name: count, dtype: int64"
      ]
     },
     "execution_count": 31,
     "metadata": {},
     "output_type": "execute_result"
    }
   ],
   "source": [
    "df3['label'].value_counts()"
   ]
  },
  {
   "cell_type": "code",
   "execution_count": 32,
   "id": "b58eea34",
   "metadata": {},
   "outputs": [
    {
     "name": "stdout",
     "output_type": "stream",
     "text": [
      "              precision    recall  f1-score   support\n",
      "\n",
      "           0       0.69      0.33      0.44        95\n",
      "           1       0.70      0.90      0.79       301\n",
      "           2       0.69      0.65      0.67        83\n",
      "           3       0.57      0.36      0.44        89\n",
      "\n",
      "    accuracy                           0.68       568\n",
      "   macro avg       0.66      0.56      0.59       568\n",
      "weighted avg       0.68      0.68      0.66       568\n",
      "\n"
     ]
    }
   ],
   "source": [
    "from sklearn.linear_model import LogisticRegression\n",
    "from sklearn.model_selection import train_test_split\n",
    "from sklearn.metrics import classification_report\n",
    "\n",
    "X = final_data[feature_cols]\n",
    "y = final_data['label']\n",
    "\n",
    "X_train, X_test, y_train, y_test = train_test_split(X, y, stratify=y, test_size=0.2, random_state=42)\n",
    "\n",
    "clf = LogisticRegression(max_iter=1000)\n",
    "clf.fit(X_train, y_train)\n",
    "y_pred = clf.predict(X_test)\n",
    "\n",
    "print(classification_report(y_test, y_pred))\n"
   ]
  },
  {
   "cell_type": "code",
   "execution_count": 33,
   "id": "760f58ac",
   "metadata": {},
   "outputs": [
    {
     "name": "stdout",
     "output_type": "stream",
     "text": [
      "CV Accuracy: 0.6362676056338028\n"
     ]
    }
   ],
   "source": [
    "from sklearn.model_selection import cross_val_score\n",
    "scores = cross_val_score(clf, X, y, cv=5)\n",
    "print(\"CV Accuracy:\", scores.mean())\n"
   ]
  },
  {
   "cell_type": "code",
   "execution_count": 34,
   "id": "3b644d99",
   "metadata": {},
   "outputs": [
    {
     "name": "stdout",
     "output_type": "stream",
     "text": [
      "              precision    recall  f1-score   support\n",
      "\n",
      "           0       0.93      0.91      0.92        95\n",
      "           1       0.96      0.97      0.97       301\n",
      "           2       0.95      0.93      0.94        83\n",
      "           3       0.94      0.96      0.95        89\n",
      "\n",
      "    accuracy                           0.95       568\n",
      "   macro avg       0.95      0.94      0.94       568\n",
      "weighted avg       0.95      0.95      0.95       568\n",
      "\n"
     ]
    }
   ],
   "source": [
    "from sklearn.ensemble import RandomForestClassifier\n",
    "rfc = RandomForestClassifier(n_estimators=100, random_state=42)\n",
    "rfc.fit(X_train, y_train)\n",
    "y_pred_rfc = rfc.predict(X_test)\n",
    "print(classification_report(y_test, y_pred_rfc))    "
   ]
  },
  {
   "cell_type": "code",
   "execution_count": 35,
   "id": "10cc47e0",
   "metadata": {},
   "outputs": [
    {
     "name": "stdout",
     "output_type": "stream",
     "text": [
      "CV Accuracy: 0.9623239436619718\n"
     ]
    }
   ],
   "source": [
    "from sklearn.model_selection import cross_val_score\n",
    "scores = cross_val_score(rfc, X, y, cv=5)\n",
    "print(\"CV Accuracy:\", scores.mean())\n"
   ]
  },
  {
   "cell_type": "code",
   "execution_count": 36,
   "id": "7a71680f",
   "metadata": {},
   "outputs": [
    {
     "name": "stderr",
     "output_type": "stream",
     "text": [
      "c:\\Users\\sudee\\AppData\\Local\\Programs\\Python\\Python312\\Lib\\site-packages\\xgboost\\training.py:183: UserWarning: [10:02:35] WARNING: C:\\actions-runner\\_work\\xgboost\\xgboost\\src\\learner.cc:738: \n",
      "Parameters: { \"use_label_encoder\" } are not used.\n",
      "\n",
      "  bst.update(dtrain, iteration=i, fobj=obj)\n"
     ]
    },
    {
     "name": "stdout",
     "output_type": "stream",
     "text": [
      "              precision    recall  f1-score   support\n",
      "\n",
      "           0       0.92      0.93      0.92        95\n",
      "           1       0.97      0.98      0.97       301\n",
      "           2       0.97      0.94      0.96        83\n",
      "           3       0.97      0.94      0.95        89\n",
      "\n",
      "    accuracy                           0.96       568\n",
      "   macro avg       0.96      0.95      0.95       568\n",
      "weighted avg       0.96      0.96      0.96       568\n",
      "\n"
     ]
    }
   ],
   "source": [
    "from xgboost import XGBClassifier\n",
    "xgb = XGBClassifier(use_label_encoder=False, eval_metric='mlogloss')        \n",
    "xgb.fit(X_train, y_train)\n",
    "y_pred_xgb = xgb.predict(X_test)\n",
    "print(classification_report(y_test, y_pred_xgb))    "
   ]
  },
  {
   "cell_type": "code",
   "execution_count": 42,
   "id": "b9dc3d0e",
   "metadata": {},
   "outputs": [
    {
     "name": "stdout",
     "output_type": "stream",
     "text": [
      "Fitting 5 folds for each of 180 candidates, totalling 900 fits\n"
     ]
    },
    {
     "name": "stderr",
     "output_type": "stream",
     "text": [
      "c:\\Users\\sudee\\AppData\\Local\\Programs\\Python\\Python312\\Lib\\site-packages\\xgboost\\training.py:183: UserWarning: [10:10:22] WARNING: C:\\actions-runner\\_work\\xgboost\\xgboost\\src\\learner.cc:738: \n",
      "Parameters: { \"use_label_encoder\" } are not used.\n",
      "\n",
      "  bst.update(dtrain, iteration=i, fobj=obj)\n"
     ]
    },
    {
     "name": "stdout",
     "output_type": "stream",
     "text": [
      "Best Parameters: {'learning_rate': 0.1, 'max_depth': 7, 'n_estimators': 100, 'subsample': 0.9}\n",
      "Best Accuracy: 0.8541994358719098\n",
      "              precision    recall  f1-score   support\n",
      "\n",
      "           0       0.79      0.68      0.73        56\n",
      "           1       0.84      0.93      0.88       160\n",
      "           2       0.89      0.75      0.81        44\n",
      "           3       0.83      0.79      0.81        48\n",
      "\n",
      "    accuracy                           0.83       308\n",
      "   macro avg       0.84      0.79      0.81       308\n",
      "weighted avg       0.83      0.83      0.83       308\n",
      "\n"
     ]
    }
   ],
   "source": [
    "from sklearn.model_selection import GridSearchCV\n",
    "param_grid = {\n",
    "    'n_estimators': [100, 200,300,400,500],\n",
    "    'max_depth': [3, 5, 7,9],\n",
    "    'learning_rate': [0.01, 0.1, 0.2],\n",
    "    'subsample': [0.8,0.9, 1.0]\n",
    "}\n",
    "\n",
    "xgb = XGBClassifier(use_label_encoder=False, eval_metric='mlogloss')\n",
    "\n",
    "grid_search = GridSearchCV(estimator=xgb, param_grid=param_grid,\n",
    "                           cv=5, scoring='accuracy', verbose=1, n_jobs=-1)\n",
    "\n",
    "grid_search.fit(X_train, y_train)\n",
    "\n",
    "print(\"Best Parameters:\", grid_search.best_params_)\n",
    "print(\"Best Accuracy:\", grid_search.best_score_)\n",
    "y_pred_search = grid_search.predict(X_test)\n",
    "print(classification_report(y_test, y_pred_search)) "
   ]
  },
  {
   "cell_type": "code",
   "execution_count": 43,
   "id": "15b6c385",
   "metadata": {},
   "outputs": [
    {
     "name": "stdout",
     "output_type": "stream",
     "text": [
      "Train accuracy: 1.0\n",
      "Test accuracy: 0.8344155844155844\n"
     ]
    }
   ],
   "source": [
    "print(\"Train accuracy:\", grid_search.score(X_train, y_train))\n",
    "print(\"Test accuracy:\", grid_search.score(X_test, y_test))\n"
   ]
  },
  {
   "cell_type": "code",
   "execution_count": 46,
   "id": "b5ee53d7",
   "metadata": {},
   "outputs": [
    {
     "name": "stdout",
     "output_type": "stream",
     "text": [
      "Fitting 5 folds for each of 30 candidates, totalling 150 fits\n"
     ]
    },
    {
     "name": "stderr",
     "output_type": "stream",
     "text": [
      "c:\\Users\\sudee\\AppData\\Local\\Programs\\Python\\Python312\\Lib\\site-packages\\xgboost\\training.py:183: UserWarning: [10:22:08] WARNING: C:\\actions-runner\\_work\\xgboost\\xgboost\\src\\learner.cc:738: \n",
      "Parameters: { \"use_label_encoder\" } are not used.\n",
      "\n",
      "  bst.update(dtrain, iteration=i, fobj=obj)\n"
     ]
    },
    {
     "name": "stdout",
     "output_type": "stream",
     "text": [
      "Best Parameters: {'subsample': 0.9, 'n_estimators': 300, 'max_depth': 7, 'learning_rate': 0.05, 'colsample_bytree': 0.9}\n",
      "Best CV Accuracy: 0.8574614235938277\n",
      "              precision    recall  f1-score   support\n",
      "\n",
      "           0       0.79      0.68      0.73        56\n",
      "           1       0.85      0.93      0.89       160\n",
      "           2       0.85      0.80      0.82        44\n",
      "           3       0.88      0.79      0.84        48\n",
      "\n",
      "    accuracy                           0.84       308\n",
      "   macro avg       0.84      0.80      0.82       308\n",
      "weighted avg       0.84      0.84      0.84       308\n",
      "\n"
     ]
    }
   ],
   "source": [
    "from xgboost import XGBClassifier\n",
    "from sklearn.model_selection import RandomizedSearchCV\n",
    "\n",
    "# Define the classifier\n",
    "xgb = XGBClassifier(use_label_encoder=False, eval_metric='mlogloss', random_state=42)\n",
    "\n",
    "# Define parameter grid for randomized search\n",
    "param_dist = {\n",
    "    'n_estimators': [100, 200, 300, 400, 500],\n",
    "    'max_depth': [3, 5, 7, 9],\n",
    "    'learning_rate': [0.01, 0.05, 0.1, 0.2],\n",
    "    'subsample': [0.7, 0.8, 0.9, 1.0],\n",
    "    'colsample_bytree': [0.7, 0.8, 0.9, 1.0]\n",
    "}\n",
    "\n",
    "# Set up the randomized search with 30 iterations\n",
    "random_search = RandomizedSearchCV(\n",
    "    estimator=xgb,\n",
    "    param_distributions=param_dist,\n",
    "    n_iter=30,\n",
    "    scoring='accuracy',\n",
    "    cv=5,\n",
    "    verbose=1,\n",
    "    random_state=42,\n",
    "    n_jobs=-1\n",
    ")\n",
    "\n",
    "# Run the search\n",
    "random_search.fit(X_train, y_train)\n",
    "\n",
    "# Print results\n",
    "print(\"Best Parameters:\", random_search.best_params_)\n",
    "print(\"Best CV Accuracy:\", random_search.best_score_)\n",
    "\n",
    "# Evaluate on test set\n",
    "best_xgb = random_search.best_estimator_\n",
    "y_pred = best_xgb.predict(X_test)\n",
    "print(classification_report(y_test, y_pred))\n"
   ]
  },
  {
   "cell_type": "code",
   "execution_count": 48,
   "id": "0ffbe4df",
   "metadata": {},
   "outputs": [
    {
     "name": "stdout",
     "output_type": "stream",
     "text": [
      "Collecting optuna\n",
      "  Downloading optuna-4.4.0-py3-none-any.whl.metadata (17 kB)\n",
      "Collecting alembic>=1.5.0 (from optuna)\n",
      "  Downloading alembic-1.16.2-py3-none-any.whl.metadata (7.3 kB)\n",
      "Collecting colorlog (from optuna)\n",
      "  Downloading colorlog-6.9.0-py3-none-any.whl.metadata (10 kB)\n",
      "Requirement already satisfied: numpy in c:\\users\\sudee\\appdata\\local\\programs\\python\\python312\\lib\\site-packages (from optuna) (2.1.3)\n",
      "Requirement already satisfied: packaging>=20.0 in c:\\users\\sudee\\appdata\\local\\programs\\python\\python312\\lib\\site-packages (from optuna) (24.2)\n",
      "Collecting sqlalchemy>=1.4.2 (from optuna)\n",
      "  Downloading sqlalchemy-2.0.41-cp312-cp312-win_amd64.whl.metadata (9.8 kB)\n",
      "Requirement already satisfied: tqdm in c:\\users\\sudee\\appdata\\local\\programs\\python\\python312\\lib\\site-packages (from optuna) (4.67.1)\n",
      "Requirement already satisfied: PyYAML in c:\\users\\sudee\\appdata\\local\\programs\\python\\python312\\lib\\site-packages (from optuna) (6.0.2)\n",
      "Collecting Mako (from alembic>=1.5.0->optuna)\n",
      "  Downloading mako-1.3.10-py3-none-any.whl.metadata (2.9 kB)\n",
      "Requirement already satisfied: typing-extensions>=4.12 in c:\\users\\sudee\\appdata\\local\\programs\\python\\python312\\lib\\site-packages (from alembic>=1.5.0->optuna) (4.12.2)\n",
      "Collecting greenlet>=1 (from sqlalchemy>=1.4.2->optuna)\n",
      "  Downloading greenlet-3.2.3-cp312-cp312-win_amd64.whl.metadata (4.2 kB)\n",
      "Requirement already satisfied: colorama in c:\\users\\sudee\\appdata\\local\\programs\\python\\python312\\lib\\site-packages (from colorlog->optuna) (0.4.6)\n",
      "Requirement already satisfied: MarkupSafe>=0.9.2 in c:\\users\\sudee\\appdata\\local\\programs\\python\\python312\\lib\\site-packages (from Mako->alembic>=1.5.0->optuna) (2.1.5)\n",
      "Downloading optuna-4.4.0-py3-none-any.whl (395 kB)\n",
      "Downloading alembic-1.16.2-py3-none-any.whl (242 kB)\n",
      "Downloading sqlalchemy-2.0.41-cp312-cp312-win_amd64.whl (2.1 MB)\n",
      "   ---------------------------------------- 0.0/2.1 MB ? eta -:--:--\n",
      "   ---------------------------------------- 2.1/2.1 MB 11.9 MB/s eta 0:00:00\n",
      "Downloading greenlet-3.2.3-cp312-cp312-win_amd64.whl (297 kB)\n",
      "Downloading colorlog-6.9.0-py3-none-any.whl (11 kB)\n",
      "Downloading mako-1.3.10-py3-none-any.whl (78 kB)\n",
      "Installing collected packages: Mako, greenlet, colorlog, sqlalchemy, alembic, optuna\n",
      "\n",
      "   ---------------------------------------- 0/6 [Mako]\n",
      "   ---------------------------------------- 0/6 [Mako]\n",
      "   ---------------------------------------- 0/6 [Mako]\n",
      "   ---------------------------------------- 0/6 [Mako]\n",
      "   ---------------------------------------- 0/6 [Mako]\n",
      "   ------ --------------------------------- 1/6 [greenlet]\n",
      "   ------ --------------------------------- 1/6 [greenlet]\n",
      "   ------ --------------------------------- 1/6 [greenlet]\n",
      "   ------ --------------------------------- 1/6 [greenlet]\n",
      "   ------------- -------------------------- 2/6 [colorlog]\n",
      "   -------------------- ------------------- 3/6 [sqlalchemy]\n",
      "   -------------------- ------------------- 3/6 [sqlalchemy]\n",
      "   -------------------- ------------------- 3/6 [sqlalchemy]\n",
      "   -------------------- ------------------- 3/6 [sqlalchemy]\n",
      "   -------------------- ------------------- 3/6 [sqlalchemy]\n",
      "   -------------------- ------------------- 3/6 [sqlalchemy]\n",
      "   -------------------- ------------------- 3/6 [sqlalchemy]\n",
      "   -------------------- ------------------- 3/6 [sqlalchemy]\n",
      "   -------------------- ------------------- 3/6 [sqlalchemy]\n",
      "   -------------------- ------------------- 3/6 [sqlalchemy]\n",
      "   -------------------- ------------------- 3/6 [sqlalchemy]\n",
      "   -------------------- ------------------- 3/6 [sqlalchemy]\n",
      "   -------------------- ------------------- 3/6 [sqlalchemy]\n",
      "   -------------------- ------------------- 3/6 [sqlalchemy]\n",
      "   -------------------- ------------------- 3/6 [sqlalchemy]\n",
      "   -------------------- ------------------- 3/6 [sqlalchemy]\n",
      "   -------------------- ------------------- 3/6 [sqlalchemy]\n",
      "   -------------------- ------------------- 3/6 [sqlalchemy]\n",
      "   -------------------- ------------------- 3/6 [sqlalchemy]\n",
      "   -------------------- ------------------- 3/6 [sqlalchemy]\n",
      "   -------------------- ------------------- 3/6 [sqlalchemy]\n",
      "   -------------------- ------------------- 3/6 [sqlalchemy]\n",
      "   -------------------- ------------------- 3/6 [sqlalchemy]\n",
      "   -------------------- ------------------- 3/6 [sqlalchemy]\n",
      "   -------------------- ------------------- 3/6 [sqlalchemy]\n",
      "   -------------------- ------------------- 3/6 [sqlalchemy]\n",
      "   -------------------- ------------------- 3/6 [sqlalchemy]\n",
      "   -------------------- ------------------- 3/6 [sqlalchemy]\n",
      "   -------------------- ------------------- 3/6 [sqlalchemy]\n",
      "   -------------------- ------------------- 3/6 [sqlalchemy]\n",
      "   -------------------- ------------------- 3/6 [sqlalchemy]\n",
      "   -------------------- ------------------- 3/6 [sqlalchemy]\n",
      "   -------------------- ------------------- 3/6 [sqlalchemy]\n",
      "   -------------------- ------------------- 3/6 [sqlalchemy]\n",
      "   -------------------- ------------------- 3/6 [sqlalchemy]\n",
      "   -------------------- ------------------- 3/6 [sqlalchemy]\n",
      "   -------------------- ------------------- 3/6 [sqlalchemy]\n",
      "   -------------------- ------------------- 3/6 [sqlalchemy]\n",
      "   -------------------- ------------------- 3/6 [sqlalchemy]\n",
      "   -------------------- ------------------- 3/6 [sqlalchemy]\n",
      "   -------------------- ------------------- 3/6 [sqlalchemy]\n",
      "   -------------------- ------------------- 3/6 [sqlalchemy]\n",
      "   -------------------- ------------------- 3/6 [sqlalchemy]\n",
      "   -------------------- ------------------- 3/6 [sqlalchemy]\n",
      "   -------------------- ------------------- 3/6 [sqlalchemy]\n",
      "   -------------------- ------------------- 3/6 [sqlalchemy]\n",
      "   -------------------------- ------------- 4/6 [alembic]\n",
      "   -------------------------- ------------- 4/6 [alembic]\n",
      "   -------------------------- ------------- 4/6 [alembic]\n",
      "   -------------------------- ------------- 4/6 [alembic]\n",
      "   -------------------------- ------------- 4/6 [alembic]\n",
      "   -------------------------- ------------- 4/6 [alembic]\n",
      "   -------------------------- ------------- 4/6 [alembic]\n",
      "   -------------------------- ------------- 4/6 [alembic]\n",
      "   -------------------------- ------------- 4/6 [alembic]\n",
      "   -------------------------- ------------- 4/6 [alembic]\n",
      "   -------------------------- ------------- 4/6 [alembic]\n",
      "   --------------------------------- ------ 5/6 [optuna]\n",
      "   --------------------------------- ------ 5/6 [optuna]\n",
      "   --------------------------------- ------ 5/6 [optuna]\n",
      "   --------------------------------- ------ 5/6 [optuna]\n",
      "   --------------------------------- ------ 5/6 [optuna]\n",
      "   --------------------------------- ------ 5/6 [optuna]\n",
      "   --------------------------------- ------ 5/6 [optuna]\n",
      "   --------------------------------- ------ 5/6 [optuna]\n",
      "   --------------------------------- ------ 5/6 [optuna]\n",
      "   --------------------------------- ------ 5/6 [optuna]\n",
      "   --------------------------------- ------ 5/6 [optuna]\n",
      "   --------------------------------- ------ 5/6 [optuna]\n",
      "   --------------------------------- ------ 5/6 [optuna]\n",
      "   --------------------------------- ------ 5/6 [optuna]\n",
      "   --------------------------------- ------ 5/6 [optuna]\n",
      "   --------------------------------- ------ 5/6 [optuna]\n",
      "   --------------------------------- ------ 5/6 [optuna]\n",
      "   --------------------------------- ------ 5/6 [optuna]\n",
      "   --------------------------------- ------ 5/6 [optuna]\n",
      "   --------------------------------- ------ 5/6 [optuna]\n",
      "   --------------------------------- ------ 5/6 [optuna]\n",
      "   --------------------------------- ------ 5/6 [optuna]\n",
      "   --------------------------------- ------ 5/6 [optuna]\n",
      "   --------------------------------- ------ 5/6 [optuna]\n",
      "   --------------------------------- ------ 5/6 [optuna]\n",
      "   --------------------------------- ------ 5/6 [optuna]\n",
      "   --------------------------------- ------ 5/6 [optuna]\n",
      "   --------------------------------- ------ 5/6 [optuna]\n",
      "   --------------------------------- ------ 5/6 [optuna]\n",
      "   --------------------------------- ------ 5/6 [optuna]\n",
      "   --------------------------------- ------ 5/6 [optuna]\n",
      "   ---------------------------------------- 6/6 [optuna]\n",
      "\n",
      "Successfully installed Mako-1.3.10 alembic-1.16.2 colorlog-6.9.0 greenlet-3.2.3 optuna-4.4.0 sqlalchemy-2.0.41\n"
     ]
    },
    {
     "name": "stderr",
     "output_type": "stream",
     "text": [
      "\n",
      "[notice] A new release of pip is available: 25.1 -> 25.1.1\n",
      "[notice] To update, run: python.exe -m pip install --upgrade pip\n"
     ]
    }
   ],
   "source": [
    "!pip install optuna"
   ]
  },
  {
   "cell_type": "code",
   "execution_count": 49,
   "id": "0d7c1eac",
   "metadata": {},
   "outputs": [
    {
     "name": "stderr",
     "output_type": "stream",
     "text": [
      "[I 2025-06-20 10:26:48,386] A new study created in memory with name: no-name-82983f32-3dad-4f54-a2a7-57ac23d2ad95\n",
      "[I 2025-06-20 10:26:53,780] Trial 0 finished with value: 0.8460627177700349 and parameters: {'n_estimators': 331, 'max_depth': 9, 'learning_rate': 0.28016787194046633, 'subsample': 0.6255916425156539, 'colsample_bytree': 0.8342353949470951}. Best is trial 0 with value: 0.8460627177700349.\n",
      "[I 2025-06-20 10:27:02,640] Trial 1 finished with value: 0.8444367015098722 and parameters: {'n_estimators': 455, 'max_depth': 6, 'learning_rate': 0.18142169836944488, 'subsample': 0.7268201894392003, 'colsample_bytree': 0.8477859547532604}. Best is trial 0 with value: 0.8460627177700349.\n",
      "[I 2025-06-20 10:27:11,376] Trial 2 finished with value: 0.8403583872573421 and parameters: {'n_estimators': 480, 'max_depth': 9, 'learning_rate': 0.26466637386836045, 'subsample': 0.8184726308031487, 'colsample_bytree': 0.6161470039949807}. Best is trial 0 with value: 0.8460627177700349.\n",
      "[I 2025-06-20 10:27:19,289] Trial 3 finished with value: 0.8436236933797909 and parameters: {'n_estimators': 336, 'max_depth': 6, 'learning_rate': 0.2829314428705927, 'subsample': 0.7816061476437292, 'colsample_bytree': 0.7165306272488553}. Best is trial 0 with value: 0.8460627177700349.\n",
      "[I 2025-06-20 10:27:26,757] Trial 4 finished with value: 0.8305989712958354 and parameters: {'n_estimators': 192, 'max_depth': 9, 'learning_rate': 0.01486932000301347, 'subsample': 0.8813442529781573, 'colsample_bytree': 0.7971809037204642}. Best is trial 0 with value: 0.8460627177700349.\n",
      "[I 2025-06-20 10:27:29,804] Trial 5 finished with value: 0.8322249875559979 and parameters: {'n_estimators': 120, 'max_depth': 6, 'learning_rate': 0.052071941424908716, 'subsample': 0.7272185998675356, 'colsample_bytree': 0.7837512199597554}. Best is trial 0 with value: 0.8460627177700349.\n",
      "[I 2025-06-20 10:27:39,093] Trial 6 finished with value: 0.8542027542724406 and parameters: {'n_estimators': 271, 'max_depth': 8, 'learning_rate': 0.03669934029104898, 'subsample': 0.668427074943924, 'colsample_bytree': 0.8902029050139859}. Best is trial 6 with value: 0.8542027542724406.\n",
      "[I 2025-06-20 10:27:41,723] Trial 7 finished with value: 0.8395387423261986 and parameters: {'n_estimators': 148, 'max_depth': 4, 'learning_rate': 0.2838552462596174, 'subsample': 0.9917641797490593, 'colsample_bytree': 0.9044243318176165}. Best is trial 6 with value: 0.8542027542724406.\n",
      "[I 2025-06-20 10:27:47,196] Trial 8 finished with value: 0.8395354239256679 and parameters: {'n_estimators': 323, 'max_depth': 4, 'learning_rate': 0.2130558909143387, 'subsample': 0.8433779941944226, 'colsample_bytree': 0.6400940167045519}. Best is trial 6 with value: 0.8542027542724406.\n",
      "[I 2025-06-20 10:27:53,194] Trial 9 finished with value: 0.8403683424589348 and parameters: {'n_estimators': 311, 'max_depth': 5, 'learning_rate': 0.04265784640107873, 'subsample': 0.9747432902571713, 'colsample_bytree': 0.6881183312192535}. Best is trial 6 with value: 0.8542027542724406.\n",
      "[I 2025-06-20 10:27:59,110] Trial 10 finished with value: 0.8485116973618716 and parameters: {'n_estimators': 232, 'max_depth': 8, 'learning_rate': 0.11163526440817403, 'subsample': 0.6146393602631008, 'colsample_bytree': 0.9594092842704356}. Best is trial 6 with value: 0.8542027542724406.\n",
      "[I 2025-06-20 10:28:05,305] Trial 11 finished with value: 0.8452497096399536 and parameters: {'n_estimators': 237, 'max_depth': 8, 'learning_rate': 0.10504502977368536, 'subsample': 0.606668822594308, 'colsample_bytree': 0.9890403575459561}. Best is trial 6 with value: 0.8542027542724406.\n",
      "[I 2025-06-20 10:28:12,199] Trial 12 finished with value: 0.8493213870914218 and parameters: {'n_estimators': 238, 'max_depth': 8, 'learning_rate': 0.1116848095964549, 'subsample': 0.672443298388879, 'colsample_bytree': 0.9788345069728586}. Best is trial 6 with value: 0.8542027542724406.\n",
      "[I 2025-06-20 10:28:23,679] Trial 13 finished with value: 0.8460693545710967 and parameters: {'n_estimators': 397, 'max_depth': 10, 'learning_rate': 0.10160512553790785, 'subsample': 0.6908550850932955, 'colsample_bytree': 0.9077939954851282}. Best is trial 6 with value: 0.8542027542724406.\n",
      "[I 2025-06-20 10:28:29,385] Trial 14 finished with value: 0.8452530280404845 and parameters: {'n_estimators': 255, 'max_depth': 7, 'learning_rate': 0.14398300503502406, 'subsample': 0.6790382899073377, 'colsample_bytree': 0.9265956865404268}. Best is trial 6 with value: 0.8542027542724406.\n",
      "[I 2025-06-20 10:28:36,429] Trial 15 finished with value: 0.84688899950224 and parameters: {'n_estimators': 268, 'max_depth': 7, 'learning_rate': 0.07583499113362156, 'subsample': 0.6701422540666588, 'colsample_bytree': 0.867568516362906}. Best is trial 6 with value: 0.8542027542724406.\n",
      "[I 2025-06-20 10:28:43,895] Trial 16 finished with value: 0.8395387423261989 and parameters: {'n_estimators': 191, 'max_depth': 8, 'learning_rate': 0.017271950186942053, 'subsample': 0.7725158207380689, 'colsample_bytree': 0.9984917728430285}. Best is trial 6 with value: 0.8542027542724406.\n",
      "[I 2025-06-20 10:28:52,285] Trial 17 finished with value: 0.8501377136220342 and parameters: {'n_estimators': 382, 'max_depth': 10, 'learning_rate': 0.17058617963526673, 'subsample': 0.7333993183343, 'colsample_bytree': 0.9506240998506064}. Best is trial 6 with value: 0.8542027542724406.\n",
      "[I 2025-06-20 10:28:59,788] Trial 18 finished with value: 0.8468757259001161 and parameters: {'n_estimators': 417, 'max_depth': 10, 'learning_rate': 0.22420354347794086, 'subsample': 0.7297705530646725, 'colsample_bytree': 0.9412230678335571}. Best is trial 6 with value: 0.8542027542724406.\n",
      "[I 2025-06-20 10:29:09,032] Trial 19 finished with value: 0.8517670482827278 and parameters: {'n_estimators': 405, 'max_depth': 10, 'learning_rate': 0.15175495906998548, 'subsample': 0.8957675567081124, 'colsample_bytree': 0.8779676271961386}. Best is trial 6 with value: 0.8542027542724406.\n",
      "[I 2025-06-20 10:29:13,941] Trial 20 finished with value: 0.8322117139538742 and parameters: {'n_estimators': 363, 'max_depth': 3, 'learning_rate': 0.1394272409466987, 'subsample': 0.9152078206106659, 'colsample_bytree': 0.761326247984114}. Best is trial 6 with value: 0.8542027542724406.\n",
      "[I 2025-06-20 10:29:22,769] Trial 21 finished with value: 0.8501277584204414 and parameters: {'n_estimators': 404, 'max_depth': 10, 'learning_rate': 0.1737713246858247, 'subsample': 0.9407920192685002, 'colsample_bytree': 0.8846863724938535}. Best is trial 6 with value: 0.8542027542724406.\n",
      "[I 2025-06-20 10:29:29,671] Trial 22 finished with value: 0.850147668823627 and parameters: {'n_estimators': 377, 'max_depth': 9, 'learning_rate': 0.2235620986091697, 'subsample': 0.85026122319249, 'colsample_bytree': 0.8292165900458959}. Best is trial 6 with value: 0.8542027542724406.\n",
      "[I 2025-06-20 10:29:37,696] Trial 23 finished with value: 0.8501310768209723 and parameters: {'n_estimators': 431, 'max_depth': 9, 'learning_rate': 0.23518808990364043, 'subsample': 0.8701591019499088, 'colsample_bytree': 0.8332791141664567}. Best is trial 6 with value: 0.8542027542724406.\n",
      "[I 2025-06-20 10:29:44,935] Trial 24 finished with value: 0.8476887340301973 and parameters: {'n_estimators': 286, 'max_depth': 9, 'learning_rate': 0.20072729178718077, 'subsample': 0.8986656153748361, 'colsample_bytree': 0.8678348882596448}. Best is trial 6 with value: 0.8542027542724406.\n",
      "[I 2025-06-20 10:29:55,562] Trial 25 finished with value: 0.852580056412809 and parameters: {'n_estimators': 359, 'max_depth': 7, 'learning_rate': 0.2431206533636246, 'subsample': 0.8464872887084585, 'colsample_bytree': 0.810811331575092}. Best is trial 6 with value: 0.8542027542724406.\n",
      "[I 2025-06-20 10:30:06,763] Trial 26 finished with value: 0.8338443670150987 and parameters: {'n_estimators': 497, 'max_depth': 7, 'learning_rate': 0.25372299436689294, 'subsample': 0.8134377626215038, 'colsample_bytree': 0.7580752641874747}. Best is trial 6 with value: 0.8542027542724406.\n",
      "[I 2025-06-20 10:30:18,645] Trial 27 finished with value: 0.8542093910735027 and parameters: {'n_estimators': 364, 'max_depth': 7, 'learning_rate': 0.07547185770162415, 'subsample': 0.9376624668284208, 'colsample_bytree': 0.8064988504690007}. Best is trial 27 with value: 0.8542093910735027.\n",
      "[I 2025-06-20 10:30:26,665] Trial 28 finished with value: 0.84931475029036 and parameters: {'n_estimators': 282, 'max_depth': 7, 'learning_rate': 0.08120112596641009, 'subsample': 0.9311541446099675, 'colsample_bytree': 0.7446092865982803}. Best is trial 27 with value: 0.8542093910735027.\n",
      "[I 2025-06-20 10:30:35,387] Trial 29 finished with value: 0.8485083789613407 and parameters: {'n_estimators': 356, 'max_depth': 5, 'learning_rate': 0.04685379308275536, 'subsample': 0.9638601832595337, 'colsample_bytree': 0.815220892239478}. Best is trial 27 with value: 0.8542093910735027.\n"
     ]
    },
    {
     "name": "stdout",
     "output_type": "stream",
     "text": [
      "Best parameters: {'n_estimators': 364, 'max_depth': 7, 'learning_rate': 0.07547185770162415, 'subsample': 0.9376624668284208, 'colsample_bytree': 0.8064988504690007}\n",
      "Best CV accuracy: 0.8542093910735027\n",
      "              precision    recall  f1-score   support\n",
      "\n",
      "           0       0.80      0.79      0.79        56\n",
      "           1       0.89      0.93      0.91       160\n",
      "           2       0.83      0.77      0.80        44\n",
      "           3       0.89      0.83      0.86        48\n",
      "\n",
      "    accuracy                           0.87       308\n",
      "   macro avg       0.85      0.83      0.84       308\n",
      "weighted avg       0.87      0.87      0.87       308\n",
      "\n"
     ]
    }
   ],
   "source": [
    "import optuna\n",
    "from xgboost import XGBClassifier\n",
    "from sklearn.model_selection import cross_val_score\n",
    "from sklearn.metrics import accuracy_score\n",
    "from sklearn.model_selection import train_test_split\n",
    "\n",
    "def objective(trial):\n",
    "    param = {\n",
    "        'verbosity': 0,\n",
    "        'use_label_encoder': False,\n",
    "        'eval_metric': 'mlogloss',\n",
    "        'n_estimators': trial.suggest_int('n_estimators', 100, 500),\n",
    "        'max_depth': trial.suggest_int('max_depth', 3, 10),\n",
    "        'learning_rate': trial.suggest_float('learning_rate', 0.01, 0.3),\n",
    "        'subsample': trial.suggest_float('subsample', 0.6, 1.0),\n",
    "        'colsample_bytree': trial.suggest_float('colsample_bytree', 0.6, 1.0),\n",
    "    }\n",
    "\n",
    "    xgb = XGBClassifier(**param)\n",
    "    score = cross_val_score(xgb, X_train, y_train, cv=5, scoring='accuracy').mean()\n",
    "    return score\n",
    "\n",
    "# Start the optimization\n",
    "study = optuna.create_study(direction='maximize')\n",
    "study.optimize(objective, n_trials=30)\n",
    "\n",
    "# Best parameters and score\n",
    "print(\"Best parameters:\", study.best_params)\n",
    "print(\"Best CV accuracy:\", study.best_value)\n",
    "\n",
    "# Train final model with best params\n",
    "best_model = XGBClassifier(**study.best_params)\n",
    "best_model.fit(X_train, y_train)\n",
    "y_pred = best_model.predict(X_test)\n",
    "print(classification_report(y_test, y_pred))\n"
   ]
  },
  {
   "cell_type": "code",
   "execution_count": 45,
   "id": "ee78ecd0",
   "metadata": {},
   "outputs": [
    {
     "name": "stdout",
     "output_type": "stream",
     "text": [
      "Fitting 5 folds for each of 216 candidates, totalling 1080 fits\n",
      "Best Parameters: {'max_depth': 20, 'max_features': 'sqrt', 'min_samples_leaf': 1, 'min_samples_split': 2, 'n_estimators': 200}\n",
      "Best Accuracy: 0.8550290360046457\n",
      "              precision    recall  f1-score   support\n",
      "\n",
      "           0       0.87      0.73      0.80        56\n",
      "           1       0.84      0.94      0.89       160\n",
      "           2       0.87      0.75      0.80        44\n",
      "           3       0.84      0.75      0.79        48\n",
      "\n",
      "    accuracy                           0.85       308\n",
      "   macro avg       0.85      0.79      0.82       308\n",
      "weighted avg       0.85      0.85      0.84       308\n",
      "\n"
     ]
    }
   ],
   "source": [
    "from sklearn.model_selection import GridSearchCV\n",
    "param_grid = {\n",
    "    'n_estimators': [100, 200, 300],\n",
    "    'max_depth': [None, 10, 20, 30],\n",
    "    'max_features': ['sqrt', 'log2'],\n",
    "    'min_samples_split': [2, 5, 10],\n",
    "    'min_samples_leaf': [1, 2, 4]\n",
    "}\n",
    "\n",
    "rfc = RandomForestClassifier(n_estimators=100, random_state=42)\n",
    "grid_search = GridSearchCV(estimator=rfc, param_grid=param_grid,\n",
    "                           cv=5, scoring='accuracy', verbose=1, n_jobs=-1)\n",
    "\n",
    "grid_search.fit(X_train, y_train)\n",
    "\n",
    "print(\"Best Parameters:\", grid_search.best_params_)\n",
    "print(\"Best Accuracy:\", grid_search.best_score_)\n",
    "y_pred_search = grid_search.predict(X_test)\n",
    "print(classification_report(y_test, y_pred_search)) "
   ]
  },
  {
   "cell_type": "markdown",
   "id": "39a8e864",
   "metadata": {},
   "source": [
    "# supervised model "
   ]
  },
  {
   "cell_type": "code",
   "execution_count": 38,
   "id": "a92d1aec",
   "metadata": {},
   "outputs": [],
   "source": [
    "sdf=pd.read_csv('./DATA/Supervised_windowed.csv')   \n"
   ]
  },
  {
   "cell_type": "code",
   "execution_count": 39,
   "id": "cc458947",
   "metadata": {},
   "outputs": [
    {
     "name": "stdout",
     "output_type": "stream",
     "text": [
      "              precision    recall  f1-score   support\n",
      "\n",
      "           0       0.64      0.32      0.43        56\n",
      "           1       0.65      0.87      0.75       160\n",
      "           2       0.62      0.48      0.54        44\n",
      "           3       0.55      0.38      0.44        48\n",
      "\n",
      "    accuracy                           0.64       308\n",
      "   macro avg       0.61      0.51      0.54       308\n",
      "weighted avg       0.63      0.64      0.61       308\n",
      "\n"
     ]
    }
   ],
   "source": [
    "from sklearn.linear_model import LogisticRegression\n",
    "from sklearn.model_selection import train_test_split\n",
    "from sklearn.metrics import classification_report\n",
    "\n",
    "X = sdf[feature_cols]\n",
    "y = sdf['label']\n",
    "\n",
    "X_train, X_test, y_train, y_test = train_test_split(X, y, stratify=y, test_size=0.2, random_state=42)\n",
    "\n",
    "clf = LogisticRegression(max_iter=1000)\n",
    "clf.fit(X_train, y_train)\n",
    "y_pred = clf.predict(X_test)\n",
    "\n",
    "print(classification_report(y_test, y_pred))"
   ]
  },
  {
   "cell_type": "code",
   "execution_count": 40,
   "id": "e857c9cb",
   "metadata": {},
   "outputs": [
    {
     "name": "stdout",
     "output_type": "stream",
     "text": [
      "              precision    recall  f1-score   support\n",
      "\n",
      "           0       0.88      0.75      0.81        56\n",
      "           1       0.84      0.94      0.89       160\n",
      "           2       0.87      0.75      0.80        44\n",
      "           3       0.83      0.73      0.78        48\n",
      "\n",
      "    accuracy                           0.85       308\n",
      "   macro avg       0.85      0.79      0.82       308\n",
      "weighted avg       0.85      0.85      0.84       308\n",
      "\n"
     ]
    }
   ],
   "source": [
    "from sklearn.ensemble import RandomForestClassifier\n",
    "rfc = RandomForestClassifier(n_estimators=100, random_state=42)\n",
    "rfc.fit(X_train, y_train)\n",
    "y_pred_rfc = rfc.predict(X_test)\n",
    "print(classification_report(y_test, y_pred_rfc))    "
   ]
  },
  {
   "cell_type": "code",
   "execution_count": 41,
   "id": "131f6d0c",
   "metadata": {},
   "outputs": [
    {
     "name": "stderr",
     "output_type": "stream",
     "text": [
      "c:\\Users\\sudee\\AppData\\Local\\Programs\\Python\\Python312\\Lib\\site-packages\\xgboost\\training.py:183: UserWarning: [10:06:25] WARNING: C:\\actions-runner\\_work\\xgboost\\xgboost\\src\\learner.cc:738: \n",
      "Parameters: { \"use_label_encoder\" } are not used.\n",
      "\n",
      "  bst.update(dtrain, iteration=i, fobj=obj)\n"
     ]
    },
    {
     "name": "stdout",
     "output_type": "stream",
     "text": [
      "              precision    recall  f1-score   support\n",
      "\n",
      "           0       0.79      0.75      0.77        56\n",
      "           1       0.88      0.93      0.90       160\n",
      "           2       0.85      0.77      0.81        44\n",
      "           3       0.87      0.85      0.86        48\n",
      "\n",
      "    accuracy                           0.86       308\n",
      "   macro avg       0.85      0.83      0.84       308\n",
      "weighted avg       0.86      0.86      0.86       308\n",
      "\n"
     ]
    }
   ],
   "source": [
    "from xgboost import XGBClassifier\n",
    "xgb = XGBClassifier(use_label_encoder=False, eval_metric='mlogloss')        \n",
    "xgb.fit(X_train, y_train)\n",
    "y_pred_xgb = xgb.predict(X_test)\n",
    "print(classification_report(y_test, y_pred_xgb))    "
   ]
  },
  {
   "cell_type": "code",
   "execution_count": null,
   "id": "0a213ac2",
   "metadata": {},
   "outputs": [],
   "source": []
  }
 ],
 "metadata": {
  "kernelspec": {
   "display_name": "Python 3",
   "language": "python",
   "name": "python3"
  },
  "language_info": {
   "codemirror_mode": {
    "name": "ipython",
    "version": 3
   },
   "file_extension": ".py",
   "mimetype": "text/x-python",
   "name": "python",
   "nbconvert_exporter": "python",
   "pygments_lexer": "ipython3",
   "version": "3.12.8"
  }
 },
 "nbformat": 4,
 "nbformat_minor": 5
}
